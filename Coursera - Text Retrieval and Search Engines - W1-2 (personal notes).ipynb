{
 "cells": [
  {
   "cell_type": "code",
   "execution_count": 45,
   "metadata": {
    "collapsed": true
   },
   "outputs": [],
   "source": [
    "import operator\n",
    "\n",
    "from collections import defaultdict\n",
    "from math import log"
   ]
  },
  {
   "cell_type": "markdown",
   "metadata": {},
   "source": [
    "# Vector space model (VSM)\n",
    "\n",
    "## Different instantiations\n"
   ]
  },
  {
   "cell_type": "code",
   "execution_count": 46,
   "metadata": {
    "collapsed": false
   },
   "outputs": [
    {
     "name": "stdout",
     "output_type": "stream",
     "text": [
      "doc_presences:\n",
      "\tnews: 5\n",
      "\tcampaign: 4\n",
      "\tof: 3\n",
      "\torganic: 2\n",
      "\tpresidential: 2\n",
      "\tfood: 2\n",
      "\tabout: 2\n",
      "\tcandidate: 1\n",
      "\n",
      "total_docs: 5\n"
     ]
    }
   ],
   "source": [
    "def format_results(results):\n",
    "    sorted_results = sorted(results.items(), key=operator.itemgetter(1), reverse=True)\n",
    "    for doc_id, rank in sorted_results:\n",
    "        print('\\t{}: {}'.format(doc_id, rank))\n",
    "\n",
    "def word_frequency(documents):\n",
    "    w_freq = defaultdict(int)\n",
    "    for document in documents:\n",
    "        for word in document.split():\n",
    "            w_freq[word.strip().lower()] += 1\n",
    "    return dict(w_freq)\n",
    "\n",
    "def doc_presence(documents):\n",
    "    d_freq = defaultdict(int)\n",
    "    for document in documents:\n",
    "        words = set([word.lower() for word in document.split()])\n",
    "        for word in words:\n",
    "            d_freq[word.strip().lower()] += 1\n",
    "    return dict(d_freq)\n",
    "\n",
    "query = 'news about presidential campaign'\n",
    "docs = {\n",
    "    'd1': 'news about',\n",
    "    'd2': 'news about organic food campaign',\n",
    "    'd3': 'news of presidential campaign',\n",
    "    'd4': 'news of presidential campaign presidential candidate ',\n",
    "    'd5': 'news of organic food campaign campaign campaign campaign',\n",
    "}\n",
    "total_docs = len(docs)\n",
    "doc_presences = doc_presence(docs.values())\n",
    "print('doc_presences:')\n",
    "format_results(doc_presences)\n",
    "\n",
    "print('\\ntotal_docs: {}'.format(total_docs))"
   ]
  },
  {
   "cell_type": "markdown",
   "metadata": {},
   "source": [
    "### Simple VSM"
   ]
  },
  {
   "cell_type": "code",
   "execution_count": 47,
   "metadata": {
    "collapsed": true
   },
   "outputs": [],
   "source": [
    "def ranking_simple(query, document):\n",
    "    query_freq = word_frequency([query])\n",
    "    doc_freq = word_frequency([document])\n",
    "    shared_w = set(query_freq.keys()).intersection(set(doc_freq.keys()))\n",
    "    ranking = 0\n",
    "    for word in shared_w:\n",
    "        w_query_presence = presence(query_freq[word])\n",
    "        w_doc_presence = presence(doc_freq[word])\n",
    "        word_ranking = w_query_presence * w_doc_presence\n",
    "        ranking += word_ranking\n",
    "    return ranking\n",
    "\n",
    "def presence(value):\n",
    "    if value > 0:\n",
    "        return 1\n",
    "    else:\n",
    "        return 0"
   ]
  },
  {
   "cell_type": "code",
   "execution_count": 48,
   "metadata": {
    "collapsed": false
   },
   "outputs": [
    {
     "name": "stdout",
     "output_type": "stream",
     "text": [
      "\td4: 3\n",
      "\td3: 3\n",
      "\td2: 3\n",
      "\td5: 2\n",
      "\td1: 2\n"
     ]
    }
   ],
   "source": [
    "results = {}\n",
    "for doc_id in sorted(docs):\n",
    "    results[doc_id] = ranking_simple(query, docs[doc_id])\n",
    "format_results(results)"
   ]
  },
  {
   "cell_type": "markdown",
   "metadata": {},
   "source": [
    "### TF VSM"
   ]
  },
  {
   "cell_type": "code",
   "execution_count": 49,
   "metadata": {
    "collapsed": true
   },
   "outputs": [],
   "source": [
    "def ranking_tf(query, document, total_docs, doc_presences):\n",
    "    query_freq = word_frequency([query])\n",
    "    doc_freq = word_frequency([document])\n",
    "    shared_w = set(query_freq.keys()).intersection(set(doc_freq.keys()))\n",
    "    ranking = 0\n",
    "    for word in shared_w:\n",
    "        w_query_freq = query_freq[word]\n",
    "        w_doc_freq = doc_freq[word]\n",
    "        w_overall_freq = doc_presences[word]\n",
    "        word_ranking = w_query_freq * w_doc_freq \n",
    "        ranking += word_ranking\n",
    "    return ranking"
   ]
  },
  {
   "cell_type": "code",
   "execution_count": 50,
   "metadata": {
    "collapsed": false
   },
   "outputs": [
    {
     "name": "stdout",
     "output_type": "stream",
     "text": [
      "\td5: 5\n",
      "\td4: 4\n",
      "\td3: 3\n",
      "\td2: 3\n",
      "\td1: 2\n"
     ]
    }
   ],
   "source": [
    "results = {}\n",
    "for doc_id in sorted(docs):\n",
    "    results[doc_id] = ranking_tf(query, docs[doc_id], total_docs, doc_presences)\n",
    "format_results(results)"
   ]
  },
  {
   "cell_type": "markdown",
   "metadata": {},
   "source": [
    "### TF-IDF VSM"
   ]
  },
  {
   "cell_type": "code",
   "execution_count": 51,
   "metadata": {
    "collapsed": true
   },
   "outputs": [],
   "source": [
    "def ranking_tfidf(query, document, total_docs, doc_presences):\n",
    "    query_freq = word_frequency([query])\n",
    "    doc_freq = word_frequency([document])\n",
    "    shared_w = set(query_freq.keys()).intersection(set(doc_freq.keys()))\n",
    "    ranking = 0\n",
    "    for word in shared_w:\n",
    "        w_query_freq = query_freq[word]\n",
    "        w_doc_freq = doc_freq[word]\n",
    "        w_overall_freq = doc_presences[word]\n",
    "        idf_term = log((float(total_docs) + 1) / w_overall_freq)\n",
    "        word_ranking = w_query_freq * w_doc_freq * idf_term\n",
    "        ranking += word_ranking\n",
    "    return ranking"
   ]
  },
  {
   "cell_type": "code",
   "execution_count": 52,
   "metadata": {
    "collapsed": false
   },
   "outputs": [
    {
     "name": "stdout",
     "output_type": "stream",
     "text": [
      "\td4: 2.7850112422383386\n",
      "\td5: 1.8041819892266122\n",
      "\td3: 1.6863989535702286\n",
      "\td2: 1.6863989535702286\n",
      "\td1: 1.2809338454620645\n"
     ]
    }
   ],
   "source": [
    "results = {}\n",
    "for doc_id in sorted(docs):\n",
    "    results[doc_id] = ranking_tfidf(query, docs[doc_id], total_docs, doc_presences)\n",
    "format_results(results)"
   ]
  },
  {
   "cell_type": "markdown",
   "metadata": {},
   "source": [
    "### BM25 VSM"
   ]
  },
  {
   "cell_type": "code",
   "execution_count": 53,
   "metadata": {
    "collapsed": false
   },
   "outputs": [],
   "source": [
    "def ranking_bm25(query, document, total_docs, doc_presences, k=0.5):\n",
    "    query_freq = word_frequency([query])\n",
    "    doc_freq = word_frequency([document])\n",
    "    shared_w = set(query_freq.keys()).intersection(set(doc_freq.keys()))\n",
    "    ranking = 0\n",
    "    for word in shared_w:\n",
    "        w_query_freq = query_freq[word]\n",
    "        w_doc_freq = doc_freq[word]\n",
    "        w_overall_freq = doc_presences[word]\n",
    "        idf_term = log((int(total_docs) + 1) / w_overall_freq)\n",
    "        bm_term = ((k+1) * w_doc_freq)/ (w_doc_freq + k)\n",
    "        word_ranking = w_query_freq * w_doc_freq * idf_term * bm_term\n",
    "        ranking += word_ranking\n",
    "    return ranking"
   ]
  },
  {
   "cell_type": "code",
   "execution_count": 54,
   "metadata": {
    "collapsed": false
   },
   "outputs": [
    {
     "name": "stdout",
     "output_type": "stream",
     "text": [
      "\td4: 3.2244561577055824\n",
      "\td5: 2.344802133370831\n",
      "\td3: 1.6863989535702286\n",
      "\td2: 1.6863989535702286\n",
      "\td1: 1.2809338454620645\n"
     ]
    }
   ],
   "source": [
    "results = {}\n",
    "for doc_id in sorted(docs):\n",
    "    results[doc_id] = ranking_bm25(query, docs[doc_id], total_docs, doc_presences)\n",
    "\n",
    "format_results(results)"
   ]
  },
  {
   "cell_type": "markdown",
   "metadata": {},
   "source": [
    "### Pivoted length normalization VSM"
   ]
  },
  {
   "cell_type": "code",
   "execution_count": 55,
   "metadata": {
    "collapsed": false
   },
   "outputs": [],
   "source": [
    "def avg_doc_length(documents):\n",
    "    tokens = 0\n",
    "    for document in documents:\n",
    "        tokens += len(document.split())\n",
    "    return tokens / len(documents)\n",
    "\n",
    "def ranking_pln(query, document, total_docs, doc_presences, avdl, b=0.25):\n",
    "    query_freq = word_frequency([query])\n",
    "    doc_freq = word_frequency([document])\n",
    "    shared_w = set(query_freq.keys()).intersection(set(doc_freq.keys()))\n",
    "    ranking = 0\n",
    "    for word in shared_w:\n",
    "        w_query_freq = query_freq[word]\n",
    "        w_doc_freq = doc_freq[word]\n",
    "        w_overall_freq = doc_presences[word]\n",
    "        idf_term = log((int(total_docs) + 1) / w_overall_freq)\n",
    "        pln_term = (log(1 + log(1 + w_doc_freq))) / (1 - b + (b * (len(document.split())/ avdl)))\n",
    "        word_ranking = w_query_freq * idf_term * pln_term\n",
    "        ranking += word_ranking\n",
    "    return ranking"
   ]
  },
  {
   "cell_type": "code",
   "execution_count": 56,
   "metadata": {
    "collapsed": false
   },
   "outputs": [
    {
     "name": "stdout",
     "output_type": "stream",
     "text": [
      "\td4: 1.0703783591674068\n",
      "\td3: 0.9347781011933076\n",
      "\td2: 0.8880391961336422\n",
      "\td1: 0.7935596664445655\n",
      "\td5: 0.421655864041908\n"
     ]
    }
   ],
   "source": [
    "avdl = avg_doc_length(docs.values())\n",
    "results = {}\n",
    "for doc_id in sorted(docs):\n",
    "    results[doc_id] = ranking_pln(query, docs[doc_id], total_docs, doc_presences, avdl)\n",
    "\n",
    "format_results(results)"
   ]
  },
  {
   "cell_type": "markdown",
   "metadata": {},
   "source": [
    "### Okapi BM25 VSM"
   ]
  },
  {
   "cell_type": "code",
   "execution_count": 57,
   "metadata": {
    "collapsed": true
   },
   "outputs": [],
   "source": [
    "def ranking_okapi_bm25(query, document, total_docs, doc_presences, avdl, b=0.25, k=0.25):\n",
    "    query_freq = word_frequency([query])\n",
    "    doc_freq = word_frequency([document])\n",
    "    shared_w = set(query_freq.keys()).intersection(set(doc_freq.keys()))\n",
    "    ranking = 0\n",
    "    for word in shared_w:\n",
    "        w_query_freq = query_freq[word]\n",
    "        w_doc_freq = doc_freq[word]\n",
    "        w_overall_freq = doc_presences[word]\n",
    "        idf_term = log((int(total_docs) + 1) / w_overall_freq)\n",
    "        bm_term = ((k+1) * w_doc_freq)/ (w_doc_freq + (k * (1 - b + (b * (len(document.split())/ avdl)))))\n",
    "        word_ranking = w_query_freq * idf_term * bm_term\n",
    "        ranking += word_ranking\n",
    "    return ranking"
   ]
  },
  {
   "cell_type": "code",
   "execution_count": 58,
   "metadata": {
    "collapsed": false
   },
   "outputs": [
    {
     "name": "stdout",
     "output_type": "stream",
     "text": [
      "\td4: 1.7959032255250897\n",
      "\td3: 1.7034332864345747\n",
      "\td2: 1.6863989535702286\n",
      "\td1: 1.3205503561464584\n",
      "\td5: 0.6498568273115293\n"
     ]
    }
   ],
   "source": [
    "avdl = avg_doc_length(docs.values())\n",
    "results = {}\n",
    "for doc_id in sorted(docs):\n",
    "    results[doc_id] = ranking_okapi_bm25(query, docs[doc_id], total_docs, doc_presences, avdl)\n",
    "format_results(results)"
   ]
  }
 ],
 "metadata": {
  "kernelspec": {
   "display_name": "Python 3",
   "language": "python",
   "name": "python3"
  },
  "language_info": {
   "codemirror_mode": {
    "name": "ipython",
    "version": 3
   },
   "file_extension": ".py",
   "mimetype": "text/x-python",
   "name": "python",
   "nbconvert_exporter": "python",
   "pygments_lexer": "ipython3",
   "version": "3.5.2"
  }
 },
 "nbformat": 4,
 "nbformat_minor": 1
}
